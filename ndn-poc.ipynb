{
 "cells": [
  {
   "cell_type": "markdown",
   "id": "4002e909-37d8-4d6c-8fc8-b9cee0bcfe38",
   "metadata": {},
   "source": [
    "Grab fablib manager"
   ]
  },
  {
   "cell_type": "code",
   "execution_count": null,
   "id": "ff6e9edf-d8fb-4c90-8f0e-fc10e9a21d76",
   "metadata": {},
   "outputs": [],
   "source": [
    "from ipaddress import ip_address, IPv4Address, IPv6Address, IPv4Network, IPv6Network\n",
    "import ipaddress\n",
    "import json\n",
    "import shlex\n",
    "from fabrictestbed_extensions.fablib.fablib import FablibManager as fablib_manager\n",
    "\n",
    "fablib = fablib_manager()\n",
    "\n",
    "fablib.show_config();"
   ]
  },
  {
   "cell_type": "markdown",
   "id": "2dbec436-0933-44ab-be15-5f59d115fff2",
   "metadata": {},
   "source": [
    "Find a site"
   ]
  },
  {
   "cell_type": "code",
   "execution_count": null,
   "id": "d4d6e30e-2227-4986-9926-5ec3a0b639cb",
   "metadata": {},
   "outputs": [],
   "source": [
    "# find a site with appropriate cores\n",
    "cores_per_node = 16\n",
    "ram_per_node = 32\n",
    "disk_per_node = 20\n",
    "site1 = fablib.get_random_site(\n",
    "    filter_function=lambda x: x[\"cores_available\"] > cores_per_node * 3 and x[\"ram_available\"] > ram_per_node * 3 and x[\"disk_available\"] > disk_per_node * 3 and x[\"nic_connectx_6_available\"] > 2\n",
    ")\n",
    "hosts = [f\"{site1.lower()}-c1\", f\"{site1.lower()}-r1\", f\"{site1.lower()}-p1\"]\n",
    "fablib.show_site(site1, 'json')"
   ]
  },
  {
   "cell_type": "code",
   "execution_count": null,
   "id": "d9bf41d0-6839-43d7-b9a8-eee7bae694ba",
   "metadata": {},
   "outputs": [],
   "source": [
    "slice_name = 'ndn-poc-sjzhu2'\n",
    "\n",
    "node1_name='Node1'\n",
    "node2_name='Node2'\n",
    "\n",
    "network_name='net1'\n",
    "nic_name = 'nic1'\n",
    "model_name = 'NIC_Basic'"
   ]
  },
  {
   "cell_type": "code",
   "execution_count": null,
   "id": "df8711ce-b792-49c1-82b0-f449164705d5",
   "metadata": {},
   "outputs": [],
   "source": [
    "#Create Slice\n",
    "slice = fablib.new_slice(name=slice_name)\n",
    "\n",
    "for h in hosts:\n",
    "\n",
    "    node = slice.add_node(name=f\"{h}-a\", cores=cores_per_node, ram=ram_per_node, disk=disk_per_node, site=site1, image='default_ubuntu_22')\n",
    "    node.add_fabnet(nic_type='NIC_ConnectX_6')\n",
    "    node.add_post_boot_upload_directory(\"scripts\")\n",
    "    node.add_post_boot_execute(\"./scripts/install_dependencies.sh\")\n",
    "    node.add_post_boot_execute(\"./scripts/install-ndn-dpdk.sh\")\n",
    "\n",
    "#Submit Slice Request\n",
    "slice.submit();"
   ]
  },
  {
   "cell_type": "markdown",
   "id": "0c99d309-8830-4283-8f9a-4eb7953e24df",
   "metadata": {},
   "source": [
    "Here are all of the settings for the various NDN services that need to be booted up."
   ]
  },
  {
   "cell_type": "code",
   "execution_count": null,
   "id": "2b6e4131-6613-403f-b744-25457feacac7",
   "metadata": {},
   "outputs": [],
   "source": [
    "FW_ARGS = {\n",
    "  'mempool': {\n",
    "    'DIRECT': { 'capacity': 524287, 'dataroom': 9146 },\n",
    "    'INDIRECT': { 'capacity': 524287 },\n",
    "  },\n",
    "  'fib': {\n",
    "    'capacity': 4095,\n",
    "    'startDepth': 8,\n",
    "  },\n",
    "  'pcct': {\n",
    "    'pcctCapacity': 65535,\n",
    "    'csMemoryCapacity': 20000,\n",
    "    'csIndirectCapacity': 20000,\n",
    "  }\n",
    "}\n",
    "MEMIF_ARGS = {\n",
    "    'scheme': \"memif\",\n",
    "    'socketName': \"/run/ndn/fileserver.sock\",\n",
    "    'id': 0,\n",
    "    'role': \"server\",\n",
    "    'dataroom': 9000\n",
    "}\n",
    "FS_ACTIVATE = {\n",
    "    'eal': {\n",
    "        'memPerNuma': {'0': 4*1024},\n",
    "        'filePrefix': 'producer',\n",
    "    },\n",
    "    'mempool': {\n",
    "        'DIRECT': {'capacity': 2**16-1, 'dataroom': 9200},\n",
    "        'INDIRECT': {'capacity': 2**16-1},\n",
    "        'PAYLOAD': {'capacity': 2**16-1, 'dataroom': 9200},\n",
    "    },\n",
    "    'face': {\n",
    "        'scheme': 'memif',\n",
    "        'socketName': MEMIF_ARGS['socketName'],\n",
    "        'id': MEMIF_ARGS['id'],\n",
    "        'dataroom': 9000,\n",
    "        'role': 'client',\n",
    "    },\n",
    "    'fileServer': {\n",
    "        'mounts': [\n",
    "            {'prefix': \"/producer/usr-local-share\", 'path': \"/usr/local/share\"}\n",
    "        ],\n",
    "        'segmentLen': 6 * 1024,\n",
    "    },\n",
    "}\n",
    "\n",
    "adj_list = {\n",
    "    hosts[0]: [hosts[1]],\n",
    "    hosts[1]: [hosts[0], hosts[2]],\n",
    "    hosts[2]: [hosts[1]],\n",
    "}\n",
    "\n",
    "forwarder_hashes = {}\n",
    "face_hashes = {}"
   ]
  },
  {
   "cell_type": "code",
   "execution_count": null,
   "id": "f913ed54-ab45-4791-bb73-98da144ed9a7",
   "metadata": {},
   "outputs": [],
   "source": [
    "# add eth ports to each node\n",
    "for h in hosts:\n",
    "    node = slice.get_node(f\"{h}-a\")\n",
    "    output = node.execute(f'''\n",
    "        echo {shlex.quote(json.dumps(FW_ARGS))} | ndndpdk-ctrl --gqlserver http://127.0.0.1:3030/ activate-forwarder\n",
    "        ndndpdk-ctrl --gqlserver http://127.0.0.1:3030/ create-eth-port --netif enp7s0np0 --xdp --mtu 1500\n",
    "        ''')\n",
    "    forwarder_hashes[h] = json.loads(output[0].split(\"\\n\")[-2])\n",
    "\n",
    "# add interface between nodes in adj_list\n",
    "for h in adj_list:\n",
    "    local_mac = forwarder_hashes[h]['macAddr']\n",
    "    node = slice.get_node(f\"{h}-a\")\n",
    "    for remote in adj_list[h]:\n",
    "        remote_mac = forwarder_hashes[remote]['macAddr']\n",
    "        output = node.execute(f\"ndndpdk-ctrl --gqlserver http://127.0.0.1:3030/ create-ether-face --local {local_mac} --remote {remote_mac}\")\n",
    "        face_hashes[f\"{h}:{remote}\"] = json.loads(output[0])"
   ]
  },
  {
   "cell_type": "code",
   "execution_count": null,
   "id": "6865e1ba-201a-453a-bfed-fb2787efdb17",
   "metadata": {},
   "outputs": [],
   "source": [
    "print(forwarder_hashes)\n",
    "print(face_hashes)\n",
    "c_to_r = face_hashes[f\"{hosts[0]}:{hosts[1]}\"]\n",
    "print(f\"{hosts[0]}:{hosts[1]}\")"
   ]
  },
  {
   "cell_type": "code",
   "execution_count": null,
   "id": "a3a22290-8251-4626-93f8-ffc8bccf88c0",
   "metadata": {},
   "outputs": [],
   "source": [
    "# add fileserver configuration to producer\n",
    "producer_name = hosts[2] # hardcode this for now\n",
    "producer_node = slice.get_node(f\"{producer_name}-a\")\n",
    "output = producer_node.execute(f'''\n",
    "    MEMIF_FACE=$(echo {shlex.quote(json.dumps(MEMIF_ARGS))} | ndndpdk-ctrl --gqlserver http://127.0.0.1:3030/ create-face)\n",
    "    ndndpdk-ctrl --gqlserver http://127.0.0.1:3030/ insert-fib --name /producer --nh $(echo $MEMIF_FACE | jq -r .id)\n",
    "    ''')\n",
    "# start fileserver instance\n",
    "output = producer_node.execute(f'''\n",
    "    sudo ndndpdk-ctrl --gqlserver http://127.0.0.1:3031/ systemd start\n",
    "    echo {shlex.quote(json.dumps(FS_ACTIVATE))} | ndndpdk-ctrl --gqlserver http://127.0.0.1:3031 activate-fileserver\n",
    "    ''')"
   ]
  },
  {
   "cell_type": "code",
   "execution_count": null,
   "id": "0cd84bd2-5f8a-4c9d-bd45-a3932be5857c",
   "metadata": {},
   "outputs": [],
   "source": [
    "# add FIB entries to point to producer\n",
    "c_node = slice.get_node(f\"{hosts[0]}-a\")\n",
    "c_to_r = face_hashes[f\"{hosts[0]}:{hosts[1]}\"]\n",
    "output = c_node.execute(f\"ndndpdk-ctrl --gqlserver http://127.0.0.1:3030/ insert-fib --name /producer --nh {c_to_r['id']}\")\n",
    "\n",
    "r_node = slice.get_node(f\"{hosts[1]}-a\")\n",
    "r_to_p = face_hashes[f\"{hosts[1]}:{hosts[2]}\"]\n",
    "r_node.execute(f\"ndndpdk-ctrl --gqlserver http://127.0.0.1:3030/ insert-fib --name /producer --nh {r_to_p['id']}\")"
   ]
  },
  {
   "cell_type": "code",
   "execution_count": null,
   "id": "887ac32d-dd0e-4f11-a885-30929fa71a51",
   "metadata": {},
   "outputs": [],
   "source": [
    "from datetime import datetime\n",
    "from datetime import timezone\n",
    "from datetime import timedelta\n",
    "\n",
    "end_date = (datetime.now(timezone.utc) + timedelta(days=4)).strftime(\"%Y-%m-%d %H:%M:%S %z\")\n",
    "try:\n",
    "    slice = fablib.get_slice(slice_name)\n",
    "    slice.renew(end_date)\n",
    "except Exception as e:\n",
    "    print(f\"Exception: {e}\")"
   ]
  },
  {
   "cell_type": "code",
   "execution_count": null,
   "id": "c7f64554-b2db-410f-86ce-152501f6a6de",
   "metadata": {},
   "outputs": [],
   "source": [
    "slice.update()"
   ]
  },
  {
   "cell_type": "code",
   "execution_count": null,
   "id": "37d03282-efba-4010-879a-7853448ecbf6",
   "metadata": {},
   "outputs": [],
   "source": [
    "slice = fablib.get_slice(slice_name)\n",
    "slice.show()"
   ]
  },
  {
   "cell_type": "code",
   "execution_count": null,
   "id": "b7c5ee5e-36a8-4203-837b-98fd7029d2fe",
   "metadata": {},
   "outputs": [],
   "source": []
  }
 ],
 "metadata": {
  "kernelspec": {
   "display_name": "Python 3 (ipykernel)",
   "language": "python",
   "name": "python3"
  },
  "language_info": {
   "codemirror_mode": {
    "name": "ipython",
    "version": 3
   },
   "file_extension": ".py",
   "mimetype": "text/x-python",
   "name": "python",
   "nbconvert_exporter": "python",
   "pygments_lexer": "ipython3",
   "version": "3.10.6"
  }
 },
 "nbformat": 4,
 "nbformat_minor": 5
}
