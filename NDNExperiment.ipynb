{
 "cells": [
  {
   "cell_type": "markdown",
   "id": "d62d93a8-1ece-48e7-a549-bfd5344a234e",
   "metadata": {},
   "source": [
    "# Setting up NDN-DPDK on FABRIC with a complex topology"
   ]
  },
  {
   "cell_type": "markdown",
   "id": "69b86214-efa8-4413-9029-b3fa4afad7bc",
   "metadata": {},
   "source": [
    "## Slice Provisioning\n",
    "First, we set up fablib so it can be used in the rest of the notebook."
   ]
  },
  {
   "cell_type": "code",
   "execution_count": null,
   "id": "198bb6a5-a427-4861-bd48-7d14535de8d5",
   "metadata": {
    "tags": []
   },
   "outputs": [],
   "source": [
    "from fabrictestbed_extensions.fablib.fablib import FablibManager as fablib_manager\n",
    "fablib = fablib_manager() \n",
    "conf = fablib.show_config()"
   ]
  },
  {
   "cell_type": "markdown",
   "id": "a200d49c-9ff4-4bbb-b2b5-48d1cff32b32",
   "metadata": {},
   "source": [
    "Next, we select a site with enough resources for the topology."
   ]
  },
  {
   "cell_type": "code",
   "execution_count": null,
   "id": "dc1c8c50-88b7-40e0-b5b2-d71dae293885",
   "metadata": {},
   "outputs": [],
   "source": [
    "cores_per_node = 16\n",
    "ram_per_node = 32\n",
    "disk_per_node = 20 # we will modify this later to give fileservers more\n",
    "site_name = fablib.get_random_site(\n",
    "    filter_function=lambda x: x[\"cores_available\"] > cores_per_node * 10 and x[\"ram_available\"] > ram_per_node * 10 and x[\"disk_available\"] > disk_per_node * 10\n",
    ")"
   ]
  },
  {
   "cell_type": "markdown",
   "id": "99640958-a25e-46fb-9318-5ba2123973a7",
   "metadata": {},
   "source": [
    "We then find our slice or create one if we don't have it yet."
   ]
  },
  {
   "cell_type": "code",
   "execution_count": null,
   "id": "52d5b62b-7a33-440a-957b-8763e9001e3b",
   "metadata": {},
   "outputs": [],
   "source": [
    "import os\n",
    "slice_name=\"IP_NDN_Test_\" + os.getenv('NB_USER')\n",
    "\n",
    "try:\n",
    "    slice = fablib.get_slice(slice_name)\n",
    "    print(\"You already have a slice by this name!\")\n",
    "except:\n",
    "    print(\"You don't have a slice named %s yet.\" % slice_name)\n",
    "    slice = fablib.new_slice(name=slice_name)"
   ]
  },
  {
   "cell_type": "markdown",
   "id": "207e45a9-5a0c-4490-bd64-fcc3b0588c33",
   "metadata": {},
   "source": [
    "Next we name and set the networks and interfaces<br>"
   ]
  },
  {
   "cell_type": "code",
   "execution_count": null,
   "id": "1c00cc55-48ae-4e7f-8ce8-32d8e3937a97",
   "metadata": {},
   "outputs": [],
   "source": [
    "# this cell sets up the hosts and router\n",
    "node_names = [\"c1\",\"c2\",\"c3\",\"p1\",\"p2\",\"p3\", \"r1\", \"r2\", \"r3\",\"r4\"]\n",
    "for n in node_names:\n",
    "    node = slice.add_node(name=n, site=site_name, cores=16, ram=32, disk=20, image='default_ubuntu_22')\n",
    "    node.add_post_boot_upload_directory(\"scripts\")\n",
    "    #node.add_post_boot_execute(\"./scripts/install_dependencies.sh\")\n",
    "    node.add_post_boot_execute(\"./scripts/install-ndn-dpdk.sh\")\n",
    "    \n",
    "# this cell sets up the network links\n",
    "nets = [\n",
    "    {\"name\": \"net1\",   \"nodes\": [\"r1\",\"c1\",\"c2\"]},\n",
    "    {\"name\": \"net2\",   \"nodes\": [\"r2\",\"p1\"]},\n",
    "    {\"name\": \"net3\",   \"nodes\": [\"r3\",\"p2\"]},\n",
    "    {\"name\": \"net4\",   \"nodes\": [\"r4\",\"p3\",\"c3\"]},\n",
    "    {\"name\": \"net12\",   \"nodes\": [\"r1\",\"r2\"]},\n",
    "    {\"name\": \"net23\",   \"nodes\": [\"r2\",\"r3\"]},\n",
    "    {\"name\": \"net34\",   \"nodes\": [\"r3\",\"r4\"]},\n",
    "    {\"name\": \"net41\",   \"nodes\": [\"r4\",\"r1\"]},\n",
    "]\n",
    "for n in nets:\n",
    "    ifaces = [slice.get_node(node).add_component(model=\"NIC_Basic\", name=n[\"name\"]).get_interfaces()[0] for node in n['nodes'] ]\n",
    "    slice.add_l2network(name=n[\"name\"], type='L2Bridge', interfaces=ifaces)"
   ]
  },
  {
   "cell_type": "markdown",
   "id": "f7c0d2f2-e551-4203-9b94-5787d248db07",
   "metadata": {},
   "source": [
    "<br><br>Request the slice and wait until it has been reserved<br>"
   ]
  },
  {
   "cell_type": "code",
   "execution_count": null,
   "id": "f024d694-e9fc-48dd-8630-705ac0691004",
   "metadata": {},
   "outputs": [],
   "source": [
    "slice.submit()"
   ]
  },
  {
   "cell_type": "markdown",
   "id": "dda04e87-1712-4168-85c9-b3dd2d1892cf",
   "metadata": {},
   "source": [
    "## NDN Setup:\n",
    "\n",
    "First, we declare a bunch of variables to use later:"
   ]
  },
  {
   "cell_type": "code",
   "execution_count": null,
   "id": "432f1c8c-31f0-4b2d-9916-009707dde973",
   "metadata": {
    "tags": []
   },
   "outputs": [],
   "source": [
    "hosts = [\"c1\",\"c2\",\"c3\",\"p1\",\"p2\",\"p3\", \"r1\", \"r2\", \"r3\",\"r4\"]\n",
    "\n",
    "# this map is used to set up the arguments for the forwarder roles\n",
    "FW_ARGS = {\n",
    "  'mempool': {\n",
    "    'DIRECT': { 'capacity': 524287, 'dataroom': 9146 },\n",
    "    'INDIRECT': { 'capacity': 524287 },\n",
    "  },\n",
    "  'fib': {\n",
    "    'capacity': 4095,\n",
    "    'startDepth': 8,\n",
    "  },\n",
    "  'pcct': {\n",
    "    'pcctCapacity': 65535,\n",
    "    'csMemoryCapacity': 20000,\n",
    "    'csIndirectCapacity': 20000,\n",
    "  }\n",
    "}\n",
    "# this map is used to configure the memif interface for the producer roles\n",
    "MEMIF_ARGS = {\n",
    "    'scheme': \"memif\",\n",
    "    'socketName': \"/run/ndn/fileserver.sock\",\n",
    "    'id': 0,\n",
    "    'role': \"server\",\n",
    "    'dataroom': 9000\n",
    "}\n",
    "\n",
    "# this helper function configures and sets up the namespaces for the producer roles\n",
    "def make_fs_activate_json(node):\n",
    "    activate_json = {\n",
    "        'eal': {\n",
    "            'memPerNuma': {'0': 4*1024},\n",
    "            'filePrefix': 'producer',\n",
    "        },\n",
    "        'mempool': {\n",
    "            'DIRECT': {'capacity': 2**16-1, 'dataroom': 9200},\n",
    "            'INDIRECT': {'capacity': 2**16-1},\n",
    "            'PAYLOAD': {'capacity': 2**16-1, 'dataroom': 9200},\n",
    "        },\n",
    "        'face': {\n",
    "            'scheme': 'memif',\n",
    "            'socketName': MEMIF_ARGS['socketName'],\n",
    "            'id': MEMIF_ARGS['id'],\n",
    "            'dataroom': 9000,\n",
    "            'role': 'client',\n",
    "        },\n",
    "        'fileServer': {\n",
    "            'mounts': [\n",
    "                {'prefix': f\"/{node}/usr-local-share\", 'path': \"/usr/local/share\"}\n",
    "            ],\n",
    "            'segmentLen': 6 * 1024,\n",
    "        },\n",
    "    }\n",
    "    return activate_json\n",
    "\n",
    "# convenience maps for the network\n",
    "net_to_nodes = {\n",
    "    \"net1\": [\"r1\",\"c1\",\"c2\"],\n",
    "    \"net2\": [\"r2\",\"p1\"],\n",
    "    \"net3\": [\"r3\",\"p2\"],\n",
    "    \"net4\": [\"r4\",\"p3\",\"c3\"],\n",
    "    \"net12\": [\"r1\",\"r2\"],\n",
    "    \"net23\": [\"r2\",\"r3\"],\n",
    "    \"net34\": [\"r3\",\"r4\"],\n",
    "    \"net41\": [\"r4\",\"r1\"],\n",
    "}\n",
    "\n",
    "adj_list = {\n",
    "    \"r1\": [\"c1\",\"c2\",\"r2\",\"r4\"],\n",
    "    \"r2\": [\"p1\",\"r1\",\"r3\"],\n",
    "    \"r3\": [\"p2\",\"r2\",\"r4\"],\n",
    "    \"r4\": [\"p3\",\"c3\",\"r1\",\"r3\"],\n",
    "    \"c1\": [\"r1\"],\n",
    "    \"c2\": [\"r1\"],\n",
    "    \"c3\": [\"r4\"],\n",
    "    \"p1\": [\"r2\"],\n",
    "    \"p2\": [\"r3\"],\n",
    "    \"p3\": [\"r4\"],\n",
    "}\n",
    "consumers = [\"c1\",\"c2\",\"c3\"]\n",
    "routers = [\"r1\",\"r2\",\"r3\",\"r4\"]\n",
    "producers = [\"p1\", \"p2\", \"p3\"]"
   ]
  },
  {
   "cell_type": "code",
   "execution_count": null,
   "id": "b9f122f1-804f-4258-9c7c-629a07b4452b",
   "metadata": {},
   "outputs": [],
   "source": [
    "# these maps store the output of the NDN-DPDK creation calls\n",
    "forwarder_hashes = {}\n",
    "face_hashes = {}\n",
    "node_net_interface = {}"
   ]
  },
  {
   "cell_type": "markdown",
   "id": "f979c8ce-ae3c-4aee-8013-81cebaf60717",
   "metadata": {},
   "source": [
    "This cell determines the network interface names for each of the nodes. This is especially important for the router nodes."
   ]
  },
  {
   "cell_type": "code",
   "execution_count": null,
   "id": "a2f78c5e-8078-4b6b-bb7a-f48eb4e70eba",
   "metadata": {
    "tags": []
   },
   "outputs": [],
   "source": [
    "import json\n",
    "interfaces = json.loads(slice.list_interfaces(output=\"json\"))\n",
    "for i in interfaces:\n",
    "    h = i[\"node\"]\n",
    "    net = i[\"network\"]\n",
    "    inf = i[\"physical_dev\"]\n",
    "    try:\n",
    "        node_net_interface[h]\n",
    "    except KeyError:\n",
    "        node_net_interface[h] = {}\n",
    "    node_net_interface[h][net] = inf\n",
    "print(node_net_interface)"
   ]
  },
  {
   "cell_type": "markdown",
   "id": "5ef63d91-885f-4169-8da5-f4abe8923da6",
   "metadata": {},
   "source": [
    "This cell sets up the ethernet ports on the consumers and producers. This is relatively simple as each of these nodes only points to their connected router node."
   ]
  },
  {
   "cell_type": "code",
   "execution_count": null,
   "id": "614f1adf-3aef-4368-9223-de87c3e2c35f",
   "metadata": {},
   "outputs": [],
   "source": [
    "import shlex\n",
    "import json\n",
    "\n",
    "# add eth ports to each node\n",
    "for h in (consumers + producers):\n",
    "    node = slice.get_node(h)\n",
    "    # consumers and producers only have 1 interface\n",
    "    inf = next(iter(node_net_interface[h].values()))\n",
    "    output = node.execute(f'''\n",
    "        echo {shlex.quote(json.dumps(FW_ARGS))} | ndndpdk-ctrl --gqlserver http://127.0.0.1:3030/ activate-forwarder\n",
    "        ndndpdk-ctrl --gqlserver http://127.0.0.1:3030/ create-eth-port --netif {inf} --xdp --mtu 1500\n",
    "        ''')\n",
    "    forwarder_hashes[h] = json.loads(output[0].split(\"\\n\")[-2])"
   ]
  },
  {
   "cell_type": "markdown",
   "id": "35922741-222f-4073-9086-f229728abe5f",
   "metadata": {},
   "source": [
    "This cell sets up each router node to connect to each neighboring router node as well as the consumers/producers it is connected to.\n",
    "\n",
    "You will receive \"ndndpdk-svc is already activated\" warnings while running this cell. That is expected as each router runs through this multiple times."
   ]
  },
  {
   "cell_type": "code",
   "execution_count": null,
   "id": "08621582-e591-4793-93c8-55b86cdf2a5b",
   "metadata": {},
   "outputs": [],
   "source": [
    "for h in routers:\n",
    "    forwarder_hashes[h] = {}\n",
    "    for net, inf in iter(node_net_interface[h].items()):\n",
    "        node = slice.get_node(h)\n",
    "        output = node.execute(f'''\n",
    "            echo {shlex.quote(json.dumps(FW_ARGS))} | ndndpdk-ctrl --gqlserver http://127.0.0.1:3030/ activate-forwarder\n",
    "            ndndpdk-ctrl --gqlserver http://127.0.0.1:3030/ create-eth-port --netif {inf} --xdp --mtu 1500\n",
    "            ''')\n",
    "        forwarder_hashes[h][net] = json.loads(output[0].split(\"\\n\")[-2])"
   ]
  },
  {
   "cell_type": "markdown",
   "id": "9eefbd9d-5d90-4e09-8220-af2c90d2af9c",
   "metadata": {},
   "source": [
    "This cell sets up all the ethernet faces for the NDN-DPDK instances on all the routers and also does it for each connected endpoint to each router."
   ]
  },
  {
   "cell_type": "code",
   "execution_count": null,
   "id": "0dfa3905-ed5e-48c0-a55f-e49ae84162dd",
   "metadata": {
    "tags": []
   },
   "outputs": [],
   "source": [
    "for h in routers:\n",
    "    node = slice.get_node(h)\n",
    "    for net, output in iter(forwarder_hashes[h].items()):\n",
    "        local_mac = output['macAddr']\n",
    "        for r in net_to_nodes[net]:\n",
    "            if h == r:\n",
    "                continue\n",
    "            else:\n",
    "                print(f\"h: {h}, r: {r}, net: {net}\")\n",
    "                print(f\"local_mac: {local_mac}\")\n",
    "                if r in routers:\n",
    "                    remote_mac = forwarder_hashes[r][net]['macAddr']\n",
    "                    print(f\"remote_mac: {remote_mac}\")\n",
    "                else:\n",
    "                    remote_mac = forwarder_hashes[r]['macAddr']\n",
    "                    print(f\"remote_mac: {remote_mac}\")\n",
    "                    # do the reverse since we have the correct mac address here\n",
    "                    remote_node = slice.get_node(r)\n",
    "                    out2 = remote_node.execute(f\"ndndpdk-ctrl --gqlserver http://127.0.0.1:3030/ create-ether-face --local {remote_mac} --remote {local_mac}\")\n",
    "                    face_hashes[f\"{r}:{h}\"] = json.loads(out2[0])\n",
    "                # we only do 1 way for routers because we're going to do the other side in another loop\n",
    "                out = node.execute(f\"ndndpdk-ctrl --gqlserver http://127.0.0.1:3030/ create-ether-face --local {local_mac} --remote {remote_mac}\")\n",
    "                face_hashes[f\"{h}:{r}\"] = json.loads(out[0])"
   ]
  },
  {
   "cell_type": "markdown",
   "id": "ef10ffdc-8381-41d4-acab-7132bb33102e",
   "metadata": {},
   "source": [
    "This cell sets up memif faces for each producer as well as activating a fileserver instance for each one."
   ]
  },
  {
   "cell_type": "code",
   "execution_count": null,
   "id": "badfa099-54f2-4b89-8131-543836bae691",
   "metadata": {
    "tags": []
   },
   "outputs": [],
   "source": [
    "for p in producers:\n",
    "    producer_node = slice.get_node(p)\n",
    "    output = producer_node.execute(f'''\n",
    "        MEMIF_FACE=$(echo {shlex.quote(json.dumps(MEMIF_ARGS))} | ndndpdk-ctrl --gqlserver http://127.0.0.1:3030/ create-face)\n",
    "        ndndpdk-ctrl --gqlserver http://127.0.0.1:3030/ insert-fib --name /{p} --nh $(echo $MEMIF_FACE | jq -r .id)\n",
    "        ''')\n",
    "    # start fileserver instance\n",
    "    output = producer_node.execute(f'''\n",
    "        sudo ndndpdk-ctrl --gqlserver http://127.0.0.1:3031/ systemd start\n",
    "        echo {shlex.quote(json.dumps(make_fs_activate_json(p)))} | ndndpdk-ctrl --gqlserver http://127.0.0.1:3031 activate-fileserver\n",
    "        ''')"
   ]
  },
  {
   "cell_type": "markdown",
   "id": "aa548966-fad5-4a90-aa7b-1220f378649a",
   "metadata": {},
   "source": [
    "This cell sets up the FIB entries on each router to point to their attached producer"
   ]
  },
  {
   "cell_type": "code",
   "execution_count": null,
   "id": "e5f3da3d-8d04-49fc-a490-00d9b78880ff",
   "metadata": {},
   "outputs": [],
   "source": [
    "for p in producers:\n",
    "    for r in adj_list[p]:\n",
    "        node = slice.get_node(r)\n",
    "        c_to_r = face_hashes[f\"{r}:{p}\"]\n",
    "        print(c_to_r)\n",
    "        output = node.execute(f\"ndndpdk-ctrl --gqlserver http://127.0.0.1:3030/ insert-fib --name /{p} --nh {c_to_r['id']}\")"
   ]
  },
  {
   "cell_type": "markdown",
   "id": "b447b1f9-1f39-4c19-bcf9-0b9128465b60",
   "metadata": {},
   "source": [
    "This cell sets up the FIB entries on each consumer to point to their attached router for each producer"
   ]
  },
  {
   "cell_type": "code",
   "execution_count": null,
   "id": "8fcd4e52-58af-433c-9db7-ab933181587e",
   "metadata": {},
   "outputs": [],
   "source": [
    "for c in consumers:\n",
    "    for r in adj_list[c]:\n",
    "        node = slice.get_node(c)\n",
    "        c_to_r = face_hashes[f\"{c}:{r}\"]\n",
    "        for p in producers:\n",
    "            output = node.execute(f\"ndndpdk-ctrl --gqlserver http://127.0.0.1:3030/ insert-fib --name /{p} --nh {c_to_r['id']}\")"
   ]
  },
  {
   "cell_type": "markdown",
   "id": "034e593b-d55b-4546-bb98-2896d9abd1f1",
   "metadata": {},
   "source": [
    "This cell sets up FIB entries on each router to point to their neighboring routers for each producer they aren't directly attached to."
   ]
  },
  {
   "cell_type": "code",
   "execution_count": null,
   "id": "1f509b93-4ae2-429a-8c1e-8c49ed2e450a",
   "metadata": {},
   "outputs": [],
   "source": [
    "for r in routers:\n",
    "    node = slice.get_node(r)\n",
    "    router_hops = []\n",
    "    for h in adj_list[r]:\n",
    "        if h in routers:\n",
    "            router_hops.append(face_hashes[f\"{r}:{h}\"]['id'])\n",
    "    for p in producers:\n",
    "        if p in adj_list[r]:\n",
    "            continue\n",
    "        else:\n",
    "            output = node.execute(f\"ndndpdk-ctrl --gqlserver http://127.0.0.1:3030/ insert-fib --name /{p} --nh {' --nh '.join(router_hops)}\")"
   ]
  },
  {
   "cell_type": "markdown",
   "id": "d341832a-f8d7-424a-978c-c94b943acff1",
   "metadata": {},
   "source": [
    "Once all the NDN-DPDK configuration is done, we create test files on each producer node."
   ]
  },
  {
   "cell_type": "code",
   "execution_count": null,
   "id": "44055688-6563-44f2-b64c-01c69e402bd0",
   "metadata": {},
   "outputs": [],
   "source": [
    "for p in producers:\n",
    "    node = slice.get_node(p)\n",
    "    output = producer_node.execute(f'''\n",
    "        cd /usr/local/share\n",
    "        sudo head -c 500K </dev/urandom >500Ktestfile\n",
    "        sudo cp 500Ktestfile 500Ktestfile2\n",
    "        sudo cp 500Ktestfile 500Ktestfile3\n",
    "        sudo cp 500Ktestfile 500Ktestfile4\n",
    "        sudo cp 500Ktestfile 500Ktestfile5\n",
    "        sudo head -c 100M </dev/urandom >100Mtestfile\n",
    "        sudo cp 100Mtestfile 100Mtestfile2\n",
    "        sudo cp 100Mtestfile 100Mtestfile3\n",
    "        sudo cp 100Mtestfile 100Mtestfile4\n",
    "        sudo cp 100Mtestfile 100Mtestfile5\n",
    "    ''')"
   ]
  },
  {
   "cell_type": "markdown",
   "id": "66f201da-740b-4456-9d97-cd92e0d8f92d",
   "metadata": {},
   "source": [
    "Once all the files have been created, we can begin testing their transfer!\n",
    "\n",
    "SSH into a consumer node and run the following command to transfer a file from a producer of your choosing to that consumer (you can swap out the file names for any existing file):\n",
    "\n",
    "`sudo ndndpdk-godemo fetch --filename /tmp/myfile --name /p1/usr-local-share/500Ktestfile`"
   ]
  },
  {
   "cell_type": "code",
   "execution_count": null,
   "id": "f792d9dc-1454-411f-bf5d-aeb190a772c6",
   "metadata": {},
   "outputs": [],
   "source": [
    "from datetime import datetime\n",
    "from datetime import timezone\n",
    "from datetime import timedelta\n",
    "\n",
    "# Set end date to 3 days from now\n",
    "end_date = (datetime.now(timezone.utc) + timedelta(days=14)).strftime(\"%Y-%m-%d %H:%M:%S %z\")\n",
    "slice.renew(end_date)\n",
    "\n",
    "slice.update()\n",
    "_ = slice.show()"
   ]
  }
 ],
 "metadata": {
  "kernelspec": {
   "display_name": "Python 3 (ipykernel)",
   "language": "python",
   "name": "python3"
  },
  "language_info": {
   "codemirror_mode": {
    "name": "ipython",
    "version": 3
   },
   "file_extension": ".py",
   "mimetype": "text/x-python",
   "name": "python",
   "nbconvert_exporter": "python",
   "pygments_lexer": "ipython3",
   "version": "3.10.6"
  }
 },
 "nbformat": 4,
 "nbformat_minor": 5
}
