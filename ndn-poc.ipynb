{
 "cells": [
  {
   "cell_type": "markdown",
   "id": "4002e909-37d8-4d6c-8fc8-b9cee0bcfe38",
   "metadata": {},
   "source": [
    "# NDN-DPDK PCI/XDP Comparison Test\n",
    "\n",
    "First, we grab fablib manager and setup some imports we'll need later."
   ]
  },
  {
   "cell_type": "code",
   "execution_count": null,
   "id": "ff6e9edf-d8fb-4c90-8f0e-fc10e9a21d76",
   "metadata": {},
   "outputs": [],
   "source": [
    "from ipaddress import ip_address, IPv4Address, IPv6Address, IPv4Network, IPv6Network\n",
    "import ipaddress\n",
    "import json\n",
    "import shlex\n",
    "from fabrictestbed_extensions.fablib.fablib import FablibManager as fablib_manager\n",
    "\n",
    "fablib = fablib_manager()\n",
    "\n",
    "fablib.show_config();"
   ]
  },
  {
   "cell_type": "markdown",
   "id": "2dbec436-0933-44ab-be15-5f59d115fff2",
   "metadata": {},
   "source": [
    "We then find a site with the correct number of resources. You may rerun this cell if you don't get a site you like (i.e. something in a different country)"
   ]
  },
  {
   "cell_type": "code",
   "execution_count": null,
   "id": "d4d6e30e-2227-4986-9926-5ec3a0b639cb",
   "metadata": {
    "tags": []
   },
   "outputs": [],
   "source": [
    "# find a site with appropriate cores\n",
    "cores_per_node = 24 # this should be at least 16\n",
    "ram_per_node = 32\n",
    "disk_per_node = 20\n",
    "site1 = fablib.get_random_site(\n",
    "    filter_function=lambda x: x[\"cores_available\"] > cores_per_node * 3 and x[\"ram_available\"] > ram_per_node * 3 and x[\"disk_available\"] > disk_per_node * 3 and x[\"nic_connectx_6_available\"] > 2\n",
    ")\n",
    "producer_name = f\"{site1.lower()}-p1-a\"\n",
    "hosts = [f\"{site1.lower()}-c1-a\", f\"{site1.lower()}-r1-a\", producer_name]\n",
    "fablib.show_site(site1, 'json')"
   ]
  },
  {
   "cell_type": "markdown",
   "id": "f8a1f797-833b-4c0f-af42-a316dff42a70",
   "metadata": {},
   "source": [
    "Name the slice here, then create the slice provisioning request in the next cell."
   ]
  },
  {
   "cell_type": "code",
   "execution_count": null,
   "id": "d9bf41d0-6839-43d7-b9a8-eee7bae694ba",
   "metadata": {},
   "outputs": [],
   "source": [
    "slice_name = 'ndn-poc'"
   ]
  },
  {
   "cell_type": "code",
   "execution_count": null,
   "id": "df8711ce-b792-49c1-82b0-f449164705d5",
   "metadata": {},
   "outputs": [],
   "source": [
    "#Create Slice\n",
    "slice = fablib.new_slice(name=slice_name)\n",
    "\n",
    "for h in hosts:\n",
    "\n",
    "    node = slice.add_node(name=h, cores=cores_per_node, ram=ram_per_node, disk=disk_per_node, site=site1, image='default_ubuntu_22')\n",
    "    if \"p1\" in h:\n",
    "        node.add_component(model=\"NVME_P4510\", name=\"disk\")\n",
    "    node.add_fabnet(nic_type='NIC_ConnectX_6')\n",
    "    node.add_post_boot_upload_directory(\"scripts\")\n",
    "    node.add_post_boot_execute(\"./scripts/install_dependencies.sh\")\n",
    "    node.add_post_boot_execute(\"./scripts/install-ndn-dpdk.sh\")\n",
    "\n",
    "#Submit Slice Request\n",
    "slice.submit();"
   ]
  },
  {
   "cell_type": "markdown",
   "id": "1534944e-d504-4bdc-9265-aec7d9a2a882",
   "metadata": {},
   "source": [
    "Configure the NVME drive for the producer node"
   ]
  },
  {
   "cell_type": "code",
   "execution_count": null,
   "id": "ec64fc48-17d4-49c3-8072-4d615938ff6e",
   "metadata": {
    "tags": []
   },
   "outputs": [],
   "source": [
    "fs_path = '/srv/fileserver'\n",
    "slice.get_node(name=producer_name).get_component('disk').configure_nvme(mount_point=fs_path)"
   ]
  },
  {
   "cell_type": "markdown",
   "id": "e25806ba-90be-4230-92b6-4dd7a5f08642",
   "metadata": {},
   "source": [
    "Set up CPU Isolation to pin certain cores to NDN-DPDK"
   ]
  },
  {
   "cell_type": "code",
   "execution_count": null,
   "id": "4f4af360-cdf8-4117-8e5c-34f6dabf692e",
   "metadata": {},
   "outputs": [],
   "source": [
    "# CPU Isolation\n",
    "execute_threads = {}\n",
    "for node in slice.get_nodes():\n",
    "    manager_dir = '/etc/systemd/system.conf.d'\n",
    "    service_dir = '/etc/systemd/system/ndndpdk-svc@127.0.0.1\\:3030.service.d'\n",
    "    start = 0\n",
    "    reserved = 6\n",
    "    end = cores_per_node - 1\n",
    "    if node.get_name() != producer_name:\n",
    "        execute_threads[node] = node.execute_thread(f'''\n",
    "            sudo mkdir -p {manager_dir}\n",
    "            echo \"[Manager]\\nCPUAffinity={start}-{reserved - 1}\" | sudo tee {manager_dir}/cpuset.conf\n",
    "            sudo mkdir -p {service_dir}\n",
    "            echo \"[Service]\\nCPUAffinity={reserved}-{end}\" | sudo tee {service_dir}/cpuset.conf\n",
    "            sudo systemctl reboot\n",
    "        ''')\n",
    "    else:\n",
    "        fs_dir = '/etc/systemd/system/ndndpdk-svc@127.0.0.1\\:3031.service.d'\n",
    "        mid = (end - reserved) // 2 + reserved - 1\n",
    "        execute_threads[node] = node.execute_thread(f'''\n",
    "            sudo mkdir -p {manager_dir}\n",
    "            echo \"[Manager]\\nCPUAffinity={start}-{reserved - 1}\" | sudo tee {manager_dir}/cpuset.conf\n",
    "            sudo mkdir -p {service_dir}\n",
    "            echo \"[Service]\\nCPUAffinity={reserved}-{mid}\" | sudo tee {service_dir}/cpuset.conf\n",
    "            sudo mkdir -p {fs_dir}\n",
    "            echo \"[Service]\\nCPUAffinity={mid + 1}-{end}\" | sudo tee {fs_dir}/cpuset.conf\n",
    "        ''')\n",
    "for thread in execute_threads.values():\n",
    "    thread.result()\n",
    "for node in slice.get_nodes():\n",
    "    node.os_reboot()\n",
    "slice.wait_ssh(progress=True)\n",
    "slice.post_boot_config()"
   ]
  },
  {
   "cell_type": "markdown",
   "id": "0c99d309-8830-4283-8f9a-4eb7953e24df",
   "metadata": {},
   "source": [
    "Here are all of the settings for the various NDN services that need to be booted up."
   ]
  },
  {
   "cell_type": "code",
   "execution_count": null,
   "id": "2b6e4131-6613-403f-b744-25457feacac7",
   "metadata": {},
   "outputs": [],
   "source": [
    "FW_ARGS = {\n",
    "  'mempool': {\n",
    "    'DIRECT': { 'capacity': 524287, 'dataroom': 9146 },\n",
    "    'INDIRECT': { 'capacity': 524287 },\n",
    "  },\n",
    "  'fib': {\n",
    "    'capacity': 4095,\n",
    "    'startDepth': 8,\n",
    "  },\n",
    "  'pcct': {\n",
    "    'pcctCapacity': 65535,\n",
    "    'csMemoryCapacity': 20000,\n",
    "    'csIndirectCapacity': 20000,\n",
    "  }\n",
    "}\n",
    "MEMIF_ARGS = {\n",
    "    'scheme': \"memif\",\n",
    "    'socketName': \"/run/ndn/fileserver.sock\",\n",
    "    'id': 0,\n",
    "    'role': \"server\",\n",
    "    'dataroom': 9000\n",
    "}\n",
    "FS_ACTIVATE = {\n",
    "    'eal': {\n",
    "        'coresPerNuma': { '0': 4 },\n",
    "        'memPerNuma': {'0': 4*1024},\n",
    "        'filePrefix': 'producer',\n",
    "    },\n",
    "    'mempool': {\n",
    "        'DIRECT': {'capacity': 2**16-1, 'dataroom': 9200},\n",
    "        'INDIRECT': {'capacity': 2**16-1},\n",
    "        'PAYLOAD': {'capacity': 2**16-1, 'dataroom': 9200},\n",
    "    },\n",
    "    'face': {\n",
    "        'scheme': 'memif',\n",
    "        'socketName': MEMIF_ARGS['socketName'],\n",
    "        'id': MEMIF_ARGS['id'],\n",
    "        'dataroom': 9000,\n",
    "        'role': 'client',\n",
    "    },\n",
    "    'fileServer': {\n",
    "        'mounts': [\n",
    "            {'prefix': \"/producer/files\", 'path': \"/srv/fileserver\"}\n",
    "        ],\n",
    "        'segmentLen': 6 * 1024,\n",
    "        'uringCapacity': 4096,\n",
    "    },\n",
    "}\n",
    "\n",
    "adj_list = {\n",
    "    hosts[0]: [hosts[1]],\n",
    "    hosts[1]: [hosts[0], hosts[2]],\n",
    "    hosts[2]: [hosts[1]],\n",
    "}\n",
    "\n",
    "forwarder_hashes = {}\n",
    "face_hashes = {}"
   ]
  },
  {
   "cell_type": "markdown",
   "id": "99bbf889-7eef-4045-961c-964c0cc9f3be",
   "metadata": {},
   "source": [
    "## PCI NDN Setup\n",
    "This will run through set up for NDN-DPDK with PCI drivers"
   ]
  },
  {
   "cell_type": "code",
   "execution_count": null,
   "id": "d0651ab4-661a-419d-a84c-fe84fe1a1658",
   "metadata": {},
   "outputs": [],
   "source": [
    "for n in slice.get_nodes():\n",
    "    n.os_reboot()\n",
    "slice.wait_ssh(progress=True)\n",
    "\n",
    "# setup hugepages for NDN-DPDK\n",
    "# we run this again because the nodes restarted after we made CPU isolation changes\n",
    "\n",
    "for h in hosts:\n",
    "    node = slice.get_node(h)\n",
    "    output = node.execute(\"sudo dpdk-hugepages.py --pagesize 1G --setup 10G\")"
   ]
  },
  {
   "cell_type": "code",
   "execution_count": null,
   "id": "f913ed54-ab45-4791-bb73-98da144ed9a7",
   "metadata": {},
   "outputs": [],
   "source": [
    "# add eth ports to each node\n",
    "for h in hosts:\n",
    "    node = slice.get_node(h)\n",
    "    output = node.execute(f'''\n",
    "        sudo ndndpdk-ctrl systemd restart\n",
    "        echo {shlex.quote(json.dumps(FW_ARGS))} | ndndpdk-ctrl --gqlserver http://127.0.0.1:3030/ activate-forwarder\n",
    "        ndndpdk-ctrl --gqlserver http://127.0.0.1:3030/ create-eth-port --pci 07:00.0 --mtu 9000 --rx-flow 16\n",
    "        ''')\n",
    "    forwarder_hashes[h] = json.loads(output[0].split(\"\\n\")[-2])\n",
    "\n",
    "# add interface between nodes in adj_list\n",
    "for h in adj_list:\n",
    "    local_mac = forwarder_hashes[h]['macAddr']\n",
    "    node = slice.get_node(h)\n",
    "    for remote in adj_list[h]:\n",
    "        remote_mac = forwarder_hashes[remote]['macAddr']\n",
    "        output = node.execute(f\"ndndpdk-ctrl --gqlserver http://127.0.0.1:3030/ create-ether-face --local {local_mac} --remote {remote_mac}\")\n",
    "        face_hashes[f\"{h}:{remote}\"] = json.loads(output[0])"
   ]
  },
  {
   "cell_type": "code",
   "execution_count": null,
   "id": "a3a22290-8251-4626-93f8-ffc8bccf88c0",
   "metadata": {},
   "outputs": [],
   "source": [
    "# add fileserver configuration to producer\n",
    "producer_node = slice.get_node(producer_name)\n",
    "output = producer_node.execute(f'''\n",
    "    MEMIF_FACE=$(echo {shlex.quote(json.dumps(MEMIF_ARGS))} | ndndpdk-ctrl --gqlserver http://127.0.0.1:3030/ create-face)\n",
    "    ndndpdk-ctrl --gqlserver http://127.0.0.1:3030/ insert-fib --name /producer --nh $(echo $MEMIF_FACE | jq -r .id)\n",
    "    ''')\n",
    "# start fileserver instance\n",
    "output = producer_node.execute(f'''\n",
    "    sudo ndndpdk-ctrl --gqlserver http://127.0.0.1:3031/ systemd start\n",
    "    echo {shlex.quote(json.dumps(FS_ACTIVATE))} | ndndpdk-ctrl --gqlserver http://127.0.0.1:3031 activate-fileserver\n",
    "    ''')"
   ]
  },
  {
   "cell_type": "code",
   "execution_count": null,
   "id": "0cd84bd2-5f8a-4c9d-bd45-a3932be5857c",
   "metadata": {},
   "outputs": [],
   "source": [
    "# add FIB entries to point to producer\n",
    "c_node = slice.get_node(hosts[0])\n",
    "c_to_r = face_hashes[f\"{hosts[0]}:{hosts[1]}\"]\n",
    "output = c_node.execute(f\"ndndpdk-ctrl --gqlserver http://127.0.0.1:3030/ insert-fib --name /producer --nh {c_to_r['id']}\")\n",
    "\n",
    "r_node = slice.get_node(hosts[1])\n",
    "r_to_p = face_hashes[f\"{hosts[1]}:{hosts[2]}\"]\n",
    "r_node.execute(f\"ndndpdk-ctrl --gqlserver http://127.0.0.1:3030/ insert-fib --name /producer --nh {r_to_p['id']}\")"
   ]
  },
  {
   "cell_type": "code",
   "execution_count": null,
   "id": "6396d0fa-1f32-4ff5-af86-bd3293f64a85",
   "metadata": {},
   "outputs": [],
   "source": [
    "# setup test files on producer\n",
    "# you can edit the \"head\" commands to produce whatever size file you want\n",
    "# we copy each file 5 times in order to produce different filenames so we don't accidentally cache results in the content store\n",
    "output = producer_node.execute(f'''\n",
    "cd /srv/fileserver\n",
    "sudo head -c 500K </dev/urandom >500Ktestfile\n",
    "sudo cp 500Ktestfile 500Ktestfile2\n",
    "sudo cp 500Ktestfile 500Ktestfile3\n",
    "sudo cp 500Ktestfile 500Ktestfile4\n",
    "sudo cp 500Ktestfile 500Ktestfile5\n",
    "sudo head -c 100M </dev/urandom >100Mtestfile\n",
    "sudo cp 100Mtestfile 100Mtestfile2\n",
    "sudo cp 100Mtestfile 100Mtestfile3\n",
    "sudo cp 100Mtestfile 100Mtestfile4\n",
    "sudo cp 100Mtestfile 100Mtestfile5\n",
    "''')"
   ]
  },
  {
   "cell_type": "markdown",
   "id": "41de3dc4-9ef5-4dbd-a49b-1a3b698ceb5c",
   "metadata": {},
   "source": [
    "Run your tests on the consumer by ssh-ing into it and running the following line (modifying the \"--name\" command line for each file): \n",
    "```\n",
    "sudo ndndpdk-godemo fetch --filename /tmp/500 --name /producer/files/500Ktestfile\n",
    "```"
   ]
  },
  {
   "cell_type": "markdown",
   "id": "c4391cbb-01e7-41a4-a228-4d922369cd88",
   "metadata": {},
   "source": [
    "## XDP tests\n",
    "\n",
    "Once the PCI tests are done, now we reprovision NDN-DPDK with XDP drivers (note, you may need to change the netif parameter if your slice provisions with a different network interface name):"
   ]
  },
  {
   "cell_type": "code",
   "execution_count": null,
   "id": "33d4f34f-27ce-4017-b6a0-c06240815278",
   "metadata": {},
   "outputs": [],
   "source": [
    "# reboot each node to reset devices\n",
    "for h in hosts:\n",
    "    node = slice.get_node(h)\n",
    "    node.os_reboot()\n",
    "slice.wait_ssh(progress=True)\n",
    "\n",
    "# add eth ports to each node\n",
    "for h in hosts:\n",
    "    print(\"Running on host: \" + h)\n",
    "    node = slice.get_node(h)\n",
    "    output = node.execute(f'''\n",
    "        sudo dpdk-hugepages.py --pagesize 1G --setup 10G\n",
    "        sudo ndndpdk-ctrl systemd start\n",
    "        echo {shlex.quote(json.dumps(FW_ARGS))} | ndndpdk-ctrl --gqlserver http://127.0.0.1:3030/ activate-forwarder\n",
    "        ndndpdk-ctrl --gqlserver http://127.0.0.1:3030/ create-eth-port --netif enp7s0np0 --mtu 1500 --xdp\n",
    "        ''')\n",
    "    forwarder_hashes[h] = json.loads(output[0].split(\"\\n\")[-2])\n",
    "\n",
    "# add interface between nodes in adj_list\n",
    "for h in adj_list:\n",
    "    local_mac = forwarder_hashes[h]['macAddr']\n",
    "    node = slice.get_node(h)\n",
    "    for remote in adj_list[h]:\n",
    "        remote_mac = forwarder_hashes[remote]['macAddr']\n",
    "        output = node.execute(f\"ndndpdk-ctrl --gqlserver http://127.0.0.1:3030/ create-ether-face --local {local_mac} --remote {remote_mac}\")\n",
    "        face_hashes[f\"{h}:{remote}\"] = json.loads(output[0])\n",
    "        \n",
    "# add fileserver configuration to producer\n",
    "producer_node = slice.get_node(producer_name)\n",
    "output = producer_node.execute(f'''\n",
    "    MEMIF_FACE=$(echo {shlex.quote(json.dumps(MEMIF_ARGS))} | ndndpdk-ctrl --gqlserver http://127.0.0.1:3030/ create-face)\n",
    "    ndndpdk-ctrl --gqlserver http://127.0.0.1:3030/ insert-fib --name /producer --nh $(echo $MEMIF_FACE | jq -r .id)\n",
    "    ''')\n",
    "\n",
    "# start fileserver instance\n",
    "output = producer_node.execute(f'''\n",
    "    sudo ndndpdk-ctrl --gqlserver http://127.0.0.1:3031/ systemd start\n",
    "    echo {shlex.quote(json.dumps(FS_ACTIVATE))} | ndndpdk-ctrl --gqlserver http://127.0.0.1:3031 activate-fileserver\n",
    "    ''')\n",
    "\n",
    "# add FIB entries to point to producer\n",
    "c_node = slice.get_node(hosts[0])\n",
    "c_to_r = face_hashes[f\"{hosts[0]}:{hosts[1]}\"]\n",
    "output = c_node.execute(f\"ndndpdk-ctrl --gqlserver http://127.0.0.1:3030/ insert-fib --name /producer --nh {c_to_r['id']}\")\n",
    "\n",
    "r_node = slice.get_node(hosts[1])\n",
    "r_to_p = face_hashes[f\"{hosts[1]}:{hosts[2]}\"]\n",
    "r_node.execute(f\"ndndpdk-ctrl --gqlserver http://127.0.0.1:3030/ insert-fib --name /producer --nh {r_to_p['id']}\")"
   ]
  },
  {
   "cell_type": "markdown",
   "id": "99c5a610-fd9e-471d-bbda-919a593c5bd0",
   "metadata": {},
   "source": [
    "Now you can run the same tests as before on the consumer:\n",
    "```\n",
    "sudo ndndpdk-godemo fetch --filename /tmp/500 --name /producer/files/500Ktestfile\n",
    "```"
   ]
  },
  {
   "cell_type": "markdown",
   "id": "7e243a04-ecba-4328-9403-81f744d7f1ba",
   "metadata": {},
   "source": [
    "## Slice extention/deletion\n",
    "If you want, you can extend the slice with this cell:"
   ]
  },
  {
   "cell_type": "code",
   "execution_count": null,
   "id": "887ac32d-dd0e-4f11-a885-30929fa71a51",
   "metadata": {},
   "outputs": [],
   "source": [
    "from datetime import datetime\n",
    "from datetime import timezone\n",
    "from datetime import timedelta\n",
    "\n",
    "end_date = (datetime.now(timezone.utc) + timedelta(days=4)).strftime(\"%Y-%m-%d %H:%M:%S %z\")\n",
    "try:\n",
    "    slice = fablib.get_slice(slice_name)\n",
    "    slice.renew(end_date)\n",
    "except Exception as e:\n",
    "    print(f\"Exception: {e}\")\n",
    "slice.update()\n",
    "slice.show()"
   ]
  },
  {
   "cell_type": "markdown",
   "id": "f5d31f11-00db-49c0-b4d8-a5d45298a3df",
   "metadata": {},
   "source": [
    "Once you are done with the slice, make sure you delete it!"
   ]
  },
  {
   "cell_type": "code",
   "execution_count": null,
   "id": "24317452-e751-4548-8c7d-9741aee916c1",
   "metadata": {},
   "outputs": [],
   "source": [
    "slice = fablib.get_slice(slice_name)\n",
    "slice.delete()"
   ]
  },
  {
   "cell_type": "code",
   "execution_count": null,
   "id": "14f508ee-9bcb-4d71-a9dc-ad47b0d253f7",
   "metadata": {},
   "outputs": [],
   "source": [
    "# wait a few seconds before running this one to confirm deletion\n",
    "slice.update()\n",
    "slice.show()"
   ]
  }
 ],
 "metadata": {
  "kernelspec": {
   "display_name": "Python 3 (ipykernel)",
   "language": "python",
   "name": "python3"
  },
  "language_info": {
   "codemirror_mode": {
    "name": "ipython",
    "version": 3
   },
   "file_extension": ".py",
   "mimetype": "text/x-python",
   "name": "python",
   "nbconvert_exporter": "python",
   "pygments_lexer": "ipython3",
   "version": "3.10.6"
  }
 },
 "nbformat": 4,
 "nbformat_minor": 5
}
